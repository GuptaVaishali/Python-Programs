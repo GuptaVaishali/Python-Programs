{
 "cells": [
  {
   "cell_type": "markdown",
   "metadata": {},
   "source": [
    "# loops"
   ]
  },
  {
   "cell_type": "markdown",
   "metadata": {},
   "source": [
    "# program to print first number divisible by 5"
   ]
  },
  {
   "cell_type": "code",
   "execution_count": 12,
   "metadata": {},
   "outputs": [
    {
     "name": "stdout",
     "output_type": "stream",
     "text": [
      "45\n"
     ]
    }
   ],
   "source": [
    "nums = [12,45,67,25,89]\n",
    "for i in range(len(nums)):\n",
    "    if nums[i]%5==0:\n",
    "        print(nums[i])\n",
    "        break\n",
    "else:\n",
    "    print(\"There is no number divisible by 5\")"
   ]
  },
  {
   "cell_type": "markdown",
   "metadata": {},
   "source": [
    "# program to check prime number"
   ]
  },
  {
   "cell_type": "code",
   "execution_count": 18,
   "metadata": {},
   "outputs": [
    {
     "name": "stdout",
     "output_type": "stream",
     "text": [
      "Enter a number11\n",
      "Number is prime\n"
     ]
    }
   ],
   "source": [
    "num = int(input(\"Enter a number\"))\n",
    "for i in range(2,num//2):\n",
    "    if num%i==0:\n",
    "        print(\"Number is not prime\")\n",
    "        break\n",
    "else:\n",
    "    print(\"Number is prime\")"
   ]
  },
  {
   "cell_type": "markdown",
   "metadata": {
    "collapsed": true
   },
   "source": [
    "# Arrays"
   ]
  },
  {
   "cell_type": "code",
   "execution_count": 24,
   "metadata": {},
   "outputs": [
    {
     "name": "stdout",
     "output_type": "stream",
     "text": [
      "array('i', [4, 5, -8, 9, -98])\n"
     ]
    }
   ],
   "source": [
    "import array as arr\n",
    "vals = arr.array('i',[4,5,-8,9,-98])\n",
    "print(vals)"
   ]
  },
  {
   "cell_type": "code",
   "execution_count": 25,
   "metadata": {},
   "outputs": [
    {
     "name": "stdout",
     "output_type": "stream",
     "text": [
      "array('I', [4, 5, 8, 9, 10])\n"
     ]
    }
   ],
   "source": [
    "import array as arr\n",
    "vals = arr.array('I',[4,5,8,9,10])\n",
    "print(vals)"
   ]
  },
  {
   "cell_type": "code",
   "execution_count": 27,
   "metadata": {},
   "outputs": [
    {
     "name": "stdout",
     "output_type": "stream",
     "text": [
      "array('u', 'cahj')\n"
     ]
    }
   ],
   "source": [
    "from array import *\n",
    "vals = array('u',['c','a','h','j'])\n",
    "print(vals)"
   ]
  },
  {
   "cell_type": "code",
   "execution_count": 30,
   "metadata": {},
   "outputs": [
    {
     "name": "stdout",
     "output_type": "stream",
     "text": [
      "array('u', 'vhbj')\n"
     ]
    }
   ],
   "source": [
    "from array import *\n",
    "vals = array('u',['v','h','b','j'])\n",
    "print(vals)"
   ]
  },
  {
   "cell_type": "code",
   "execution_count": 36,
   "metadata": {},
   "outputs": [
    {
     "name": "stdout",
     "output_type": "stream",
     "text": [
      "array('f', [4.980000019073486, 5.0, -8.0, 9.0, 10.0])\n",
      "5\n"
     ]
    }
   ],
   "source": [
    "import array as arr\n",
    "vals = arr.array('f',[4.98,5,-8,9,10])\n",
    "print(vals)\n",
    "print(len(vals))"
   ]
  },
  {
   "cell_type": "code",
   "execution_count": 39,
   "metadata": {},
   "outputs": [
    {
     "name": "stdout",
     "output_type": "stream",
     "text": [
      "array('d', [4.98, 5.0, 8.0, 9.0, 10.0])\n"
     ]
    }
   ],
   "source": [
    "import array as arr\n",
    "vals = arr.array('d',[4.98,5,8,9,10])\n",
    "print(vals)"
   ]
  },
  {
   "cell_type": "code",
   "execution_count": 46,
   "metadata": {},
   "outputs": [
    {
     "name": "stdout",
     "output_type": "stream",
     "text": [
      "array('d', [4.98, 5.0, 8.0, 9.0, 10.0])\n",
      "d\n",
      "(129233904, 5)\n"
     ]
    }
   ],
   "source": [
    "import array as arr\n",
    "vals = arr.array('d',[4.98,5,8,9,10])\n",
    "print(vals)\n",
    "print(vals.typecode)\n",
    "print(vals.buffer_info()) #tells address and size "
   ]
  },
  {
   "cell_type": "code",
   "execution_count": 76,
   "metadata": {},
   "outputs": [
    {
     "name": "stdout",
     "output_type": "stream",
     "text": [
      "array('d', [4.98, 5.0, 8.0, 9.0, 10.0])\n",
      "array('d', [10.0, 9.0, 8.0, 5.0, 4.98])\n",
      "array('d', [10.0, 9.0, 5.0, 4.98])\n",
      "array('d', [10.0, 9.0, 5.0, 4.98, 30.0])\n",
      "2\n",
      "array('d', [10.0, 59.0, 9.0, 5.0, 4.98, 30.0])\n",
      "array('d', [10.0, 59.0, 5.0, 4.98, 30.0])\n"
     ]
    }
   ],
   "source": [
    "import array as arr\n",
    "vals = arr.array('d',[4.98,5,8,9,10])\n",
    "print(vals)\n",
    "vals.reverse()\n",
    "print(vals)\n",
    "vals.remove(8)  #parameter is the value to be deleted\n",
    "print(vals)\n",
    "vals.append(30)\n",
    "print(vals)\n",
    "print(vals.index(5))\n",
    "vals.insert(1,59)\n",
    "print(vals)\n",
    "del vals[2]    # parameter is the index of which element to be deleted\n",
    "print(vals)"
   ]
  },
  {
   "cell_type": "code",
   "execution_count": 65,
   "metadata": {},
   "outputs": [
    {
     "name": "stdout",
     "output_type": "stream",
     "text": [
      "3\n",
      "7\n",
      "8\n",
      "9\n",
      "24\n",
      "\n",
      "3\n",
      "7\n",
      "8\n",
      "9\n",
      "24\n",
      "\n",
      "3\n",
      "7\n",
      "8\n",
      "9\n",
      "24\n"
     ]
    }
   ],
   "source": [
    "from array import *\n",
    "marks = array('i',[3,7,8,9,24])\n",
    "for m in marks:\n",
    "    print(m)\n",
    "print()\n",
    "for i in range(len(marks)):\n",
    "    print(marks[i])\n",
    "print()    \n",
    "k=0\n",
    "while(k<len(marks)):\n",
    "    print(marks[k])\n",
    "    k+=1"
   ]
  },
  {
   "cell_type": "code",
   "execution_count": 63,
   "metadata": {},
   "outputs": [
    {
     "name": "stdout",
     "output_type": "stream",
     "text": [
      "2\n",
      "4\n",
      "3\n",
      "5\n"
     ]
    }
   ],
   "source": [
    "from array import *\n",
    "vals = array('i',[2,4,3,5])\n",
    "newArr = array(vals.typecode ,( a for a in vals))\n",
    "for e in newArr:\n",
    "    print(e)"
   ]
  },
  {
   "cell_type": "code",
   "execution_count": 64,
   "metadata": {},
   "outputs": [
    {
     "name": "stdout",
     "output_type": "stream",
     "text": [
      "4\n",
      "16\n",
      "9\n",
      "25\n"
     ]
    }
   ],
   "source": [
    "from array import *\n",
    "vals = array('i',[2,4,3,5])\n",
    "newArr = array(vals.typecode ,( a*a for a in vals))\n",
    "for e in newArr:\n",
    "    print(e)"
   ]
  },
  {
   "cell_type": "markdown",
   "metadata": {},
   "source": [
    "# Asking values from user to input"
   ]
  },
  {
   "cell_type": "code",
   "execution_count": 74,
   "metadata": {},
   "outputs": [
    {
     "name": "stdout",
     "output_type": "stream",
     "text": [
      "Enter the number of elements of array 5\n",
      "Enter value 2\n",
      "Enter value 4\n",
      "Enter value 67\n",
      "Enter value 8\n",
      "Enter value 90\n",
      "array('i', [2, 4, 67, 8, 90])\n",
      "which element do u want to search 90 \n",
      "4\n",
      "4\n"
     ]
    }
   ],
   "source": [
    "from array import *\n",
    "arr = array('i',[])\n",
    "n = int(input(\"Enter the number of elements of array \"))\n",
    "for i in range(n):\n",
    "    x = int(input(\"Enter value \"))\n",
    "    arr.append(x)\n",
    "print(arr)\n",
    "element = int(input(\"which element do u want to search \"))\n",
    "\n",
    "for i in range(len(arr)):\n",
    "    if arr[i]==element:\n",
    "        print(i)\n",
    "        break\n",
    "else:\n",
    "    print(\"Element \" ,element ,\" does not exist\")\n",
    "\n",
    "print(arr.index(element))"
   ]
  },
  {
   "cell_type": "code",
   "execution_count": 79,
   "metadata": {},
   "outputs": [
    {
     "ename": "TypeError",
     "evalue": "an integer is required (got type list)",
     "output_type": "error",
     "traceback": [
      "\u001b[1;31m---------------------------------------------------------------------------\u001b[0m",
      "\u001b[1;31mTypeError\u001b[0m                                 Traceback (most recent call last)",
      "\u001b[1;32m<ipython-input-79-733b7c459c3e>\u001b[0m in \u001b[0;36m<module>\u001b[1;34m()\u001b[0m\n\u001b[0;32m      1\u001b[0m \u001b[1;32mfrom\u001b[0m \u001b[0marray\u001b[0m \u001b[1;32mimport\u001b[0m \u001b[1;33m*\u001b[0m\u001b[1;33m\u001b[0m\u001b[0m\n\u001b[1;32m----> 2\u001b[1;33m \u001b[0marr\u001b[0m \u001b[1;33m=\u001b[0m \u001b[0marray\u001b[0m\u001b[1;33m(\u001b[0m\u001b[1;34m'i'\u001b[0m\u001b[1;33m,\u001b[0m\u001b[1;33m[\u001b[0m\u001b[1;33m[\u001b[0m\u001b[1;36m2\u001b[0m\u001b[1;33m,\u001b[0m\u001b[1;36m3\u001b[0m\u001b[1;33m,\u001b[0m\u001b[1;36m4\u001b[0m\u001b[1;33m]\u001b[0m\u001b[1;33m,\u001b[0m\u001b[1;33m[\u001b[0m\u001b[1;36m6\u001b[0m\u001b[1;33m,\u001b[0m\u001b[1;36m7\u001b[0m\u001b[1;33m,\u001b[0m\u001b[1;36m9\u001b[0m\u001b[1;33m]\u001b[0m\u001b[1;33m]\u001b[0m\u001b[1;33m)\u001b[0m \u001b[1;31m#from array can not make 2d array\u001b[0m\u001b[1;33m\u001b[0m\u001b[0m\n\u001b[0m",
      "\u001b[1;31mTypeError\u001b[0m: an integer is required (got type list)"
     ]
    }
   ],
   "source": [
    "from array import *\n",
    "arr = array('i',[[2,3,4],[6,7,9]]) #from array can not make 2d array"
   ]
  },
  {
   "cell_type": "markdown",
   "metadata": {},
   "source": [
    "# numpy package"
   ]
  },
  {
   "cell_type": "code",
   "execution_count": 83,
   "metadata": {},
   "outputs": [
    {
     "name": "stdout",
     "output_type": "stream",
     "text": [
      "[2 5 6 8]\n"
     ]
    }
   ],
   "source": [
    "from numpy import *\n",
    "arr = array([2,5,6,8])\n",
    "print(arr)"
   ]
  },
  {
   "cell_type": "code",
   "execution_count": 93,
   "metadata": {},
   "outputs": [
    {
     "name": "stdout",
     "output_type": "stream",
     "text": [
      "[ 2.  5.  6.  8.]\n",
      "float64\n"
     ]
    }
   ],
   "source": [
    "from numpy import *\n",
    "arr = array([2,5,6,8],float)\n",
    "print(arr)\n",
    "print(arr.dtype)"
   ]
  },
  {
   "cell_type": "code",
   "execution_count": 87,
   "metadata": {},
   "outputs": [
    {
     "name": "stdout",
     "output_type": "stream",
     "text": [
      "[2 5 6 8]\n"
     ]
    }
   ],
   "source": [
    "from numpy import *\n",
    "arr = array([2,5,6,8],int)\n",
    "print(arr)"
   ]
  },
  {
   "cell_type": "code",
   "execution_count": 92,
   "metadata": {},
   "outputs": [
    {
     "name": "stdout",
     "output_type": "stream",
     "text": [
      "[[ 2  5  6  8]\n",
      " [ 3 55  7  8]]\n"
     ]
    }
   ],
   "source": [
    "from numpy import *\n",
    "arr = array([[2,5,6,8],[3,55,7,8]],int)\n",
    "print(arr)"
   ]
  },
  {
   "cell_type": "code",
   "execution_count": 96,
   "metadata": {},
   "outputs": [
    {
     "name": "stdout",
     "output_type": "stream",
     "text": [
      "[  0.   4.   8.  12.  16.]\n"
     ]
    }
   ],
   "source": [
    "from numpy import *\n",
    "arr = linspace(0,16,5) #start,end,No of parts to be broken\n",
    "print(arr)"
   ]
  },
  {
   "cell_type": "code",
   "execution_count": 97,
   "metadata": {},
   "outputs": [
    {
     "name": "stdout",
     "output_type": "stream",
     "text": [
      "[ 0  2  4  6  8 10 12 14]\n"
     ]
    }
   ],
   "source": [
    "from numpy import *\n",
    "arr = arange(0,15,2) #start,end,step\n",
    "print(arr)"
   ]
  },
  {
   "cell_type": "code",
   "execution_count": 101,
   "metadata": {},
   "outputs": [
    {
     "name": "stdout",
     "output_type": "stream",
     "text": [
      "[ 0.  0.  0.  0.  0.]\n"
     ]
    }
   ],
   "source": [
    "from numpy import *\n",
    "arr = zeros(5)\n",
    "print(arr)"
   ]
  },
  {
   "cell_type": "code",
   "execution_count": 102,
   "metadata": {},
   "outputs": [
    {
     "name": "stdout",
     "output_type": "stream",
     "text": [
      "[0 0 0 0 0]\n"
     ]
    }
   ],
   "source": [
    "from numpy import *\n",
    "arr = zeros(5,int)\n",
    "print(arr)"
   ]
  },
  {
   "cell_type": "code",
   "execution_count": 104,
   "metadata": {},
   "outputs": [
    {
     "name": "stdout",
     "output_type": "stream",
     "text": [
      "[ 1.  1.  1.  1.  1.]\n"
     ]
    }
   ],
   "source": [
    "from numpy import *\n",
    "arr = ones(5)\n",
    "print(arr)"
   ]
  },
  {
   "cell_type": "code",
   "execution_count": 105,
   "metadata": {},
   "outputs": [
    {
     "name": "stdout",
     "output_type": "stream",
     "text": [
      "[1 1 1 1 1]\n"
     ]
    }
   ],
   "source": [
    "from numpy import *\n",
    "arr = ones(5,int)\n",
    "print(arr)"
   ]
  },
  {
   "cell_type": "code",
   "execution_count": 131,
   "metadata": {},
   "outputs": [
    {
     "name": "stdout",
     "output_type": "stream",
     "text": [
      "[3 4 5 6]\n",
      "[ 8  9 10 11]\n",
      "8\n",
      "38\n",
      "[ 0.98935825  0.41211849 -0.54402111 -0.99999021]\n",
      "[-0.14550003 -0.91113026 -0.83907153  0.0044257 ]\n",
      "[ 2.07944154  2.19722458  2.30258509  2.39789527]\n",
      "[ 2.82842712  3.          3.16227766  3.31662479]\n",
      "[5 7 3 8]\n",
      "[13 16 13 19]\n",
      "[ 8  9 10 11  5  7  3  8]\n"
     ]
    }
   ],
   "source": [
    "from numpy import *\n",
    "arr1 = array([3,4,5,6])\n",
    "print(arr1)\n",
    "\n",
    "arr1+=5\n",
    "\n",
    "print(arr1)\n",
    "print(min(arr1))\n",
    "# print(max(arr1))\n",
    "print(sum(arr1))\n",
    "print(sin(arr1))\n",
    "print(cos(arr1))\n",
    "print(log(arr1))\n",
    "print(sqrt(arr1))\n",
    "\n",
    "arr2 = array([5,7,3,8])\n",
    "print(arr2)\n",
    "arr3 = arr1 + arr2\n",
    "print(arr3)\n",
    "\n",
    "print(concatenate([arr1,arr2]))"
   ]
  },
  {
   "cell_type": "markdown",
   "metadata": {},
   "source": [
    "# Shallow copy and Deep copy"
   ]
  },
  {
   "cell_type": "code",
   "execution_count": 136,
   "metadata": {},
   "outputs": [
    {
     "name": "stdout",
     "output_type": "stream",
     "text": [
      "[ 2  4  5 67  9]\n",
      "[ 2  4  5 67  9]\n",
      "129773440\n",
      "129773440\n",
      "after view\n",
      "[ 2 50  5 67  9]\n",
      "[ 2 50  5 67  9]\n",
      "129773440\n",
      "129773120\n",
      "[ 2 60  5 67  9]\n",
      "[ 2 50  5 67  9]\n",
      "129773440\n",
      "129974560\n"
     ]
    }
   ],
   "source": [
    "from numpy import *\n",
    "arr1 = array([2,4,5,67,9])\n",
    "arr2 = arr1      # these are only aliases\n",
    "print(arr1)\n",
    "print(arr2)\n",
    "print(id(arr1))\n",
    "print(id(arr2))\n",
    "print(\"after view\")  # shallow copy\n",
    "arr2 = arr1.view()\n",
    "arr1[1] =50\n",
    "print(arr1)\n",
    "print(arr2)\n",
    "print(id(arr1))\n",
    "print(id(arr2))\n",
    "\n",
    "arr2 = arr1.copy()  #deep copy\n",
    "arr1[1] =60\n",
    "print(arr1)\n",
    "print(arr2)\n",
    "print(id(arr1))\n",
    "print(id(arr2))\n"
   ]
  },
  {
   "cell_type": "markdown",
   "metadata": {},
   "source": [
    "# Array Functions"
   ]
  },
  {
   "cell_type": "code",
   "execution_count": 9,
   "metadata": {},
   "outputs": [
    {
     "name": "stdout",
     "output_type": "stream",
     "text": [
      "[[ 2  5  6  8]\n",
      " [ 3 55  7  8]]\n",
      "int32\n",
      "2\n",
      "(2, 4)\n",
      "8\n",
      "[ 2  5  6  8  3 55  7  8]\n",
      "[[ 2  5]\n",
      " [ 6  8]\n",
      " [ 3 55]\n",
      " [ 7  8]]\n"
     ]
    }
   ],
   "source": [
    "from numpy import *\n",
    "arr = array([[2,5,6,8],[3,55,7,8]])\n",
    "print(arr)\n",
    "print(arr.dtype)\n",
    "print(arr.ndim)\n",
    "print(arr.shape)\n",
    "print(arr.size)\n",
    "\n",
    "arr2 = arr.flatten()\n",
    "print(arr2)\n",
    "\n",
    "print(arr2.reshape(4,2))"
   ]
  },
  {
   "cell_type": "markdown",
   "metadata": {},
   "source": [
    "# Matrix Function "
   ]
  },
  {
   "cell_type": "code",
   "execution_count": 18,
   "metadata": {},
   "outputs": [
    {
     "name": "stdout",
     "output_type": "stream",
     "text": [
      "[[1 2 3]\n",
      " [4 5 6]\n",
      " [9 8 2]]\n",
      "diagonal of matrix  [1 5 2]\n",
      "min value  1\n",
      "max value  9\n",
      "sum   40\n"
     ]
    }
   ],
   "source": [
    "from numpy import *\n",
    "m = matrix('1 2 3;4 5 6; 9 8 2')\n",
    "print(m)\n",
    "print(\"diagonal of matrix \" , diagonal(m))\n",
    "print(\"min value \" , m.min())\n",
    "print(\"max value \" , m.max())\n",
    "print(\"sum  \" , m.sum())"
   ]
  },
  {
   "cell_type": "markdown",
   "metadata": {},
   "source": [
    "# Matrix operations"
   ]
  },
  {
   "cell_type": "code",
   "execution_count": 24,
   "metadata": {},
   "outputs": [
    {
     "name": "stdout",
     "output_type": "stream",
     "text": [
      "Matrix 1 is\n",
      "[[1 2 3]\n",
      " [4 5 6]\n",
      " [9 8 2]]\n",
      "Matrix 2 is\n",
      "[[3 2 5]\n",
      " [6 8 9]\n",
      " [2 4 6]]\n",
      "Matrix sum is\n",
      "[[ 4  4  8]\n",
      " [10 13 15]\n",
      " [11 12  8]]\n",
      "Matrix diff  is\n",
      "[[-2  0 -2]\n",
      " [-2 -3 -3]\n",
      " [ 7  4 -4]]\n",
      "Matrix multiplication is\n",
      "[[ 21  30  41]\n",
      " [ 54  72 101]\n",
      " [ 79  90 129]]\n",
      "Matrix Division is\n",
      "[[ 0.33333333  1.          0.6       ]\n",
      " [ 0.66666667  0.625       0.66666667]\n",
      " [ 4.5         2.          0.33333333]]\n"
     ]
    }
   ],
   "source": [
    "from numpy import *\n",
    "m1 = matrix('1 2 3 ; 4 5 6 ; 9 8 2')\n",
    "m2 = matrix('3 2 5 ; 6 8 9 ; 2 4 6')\n",
    "print(\"Matrix 1 is\")\n",
    "print(m1)\n",
    "print(\"Matrix 2 is\")\n",
    "print(m2)\n",
    "print(\"Matrix sum is\")\n",
    "m3 = m1+m2\n",
    "print(m3)\n",
    "print(\"Matrix diff  is\")\n",
    "m3 =m1-m2\n",
    "print(m3)\n",
    "print(\"Matrix multiplication is\")\n",
    "m3 = m1*m2\n",
    "print(m3)\n",
    "print(\"Matrix Division is\")\n",
    "m3 = m1/m2\n",
    "print(m3)"
   ]
  },
  {
   "cell_type": "markdown",
   "metadata": {},
   "source": [
    "\n",
    "# Functions"
   ]
  },
  {
   "cell_type": "code",
   "execution_count": 9,
   "metadata": {},
   "outputs": [
    {
     "data": {
      "text/plain": [
       "14"
      ]
     },
     "execution_count": 9,
     "metadata": {},
     "output_type": "execute_result"
    }
   ],
   "source": [
    "def sum(a,b,c):\n",
    "    return a+b+c\n",
    "sum(3,5,6)"
   ]
  },
  {
   "cell_type": "code",
   "execution_count": 10,
   "metadata": {},
   "outputs": [
    {
     "data": {
      "text/plain": [
       "9"
      ]
     },
     "execution_count": 10,
     "metadata": {},
     "output_type": "execute_result"
    }
   ],
   "source": [
    "def sum(a,b):\n",
    "    s= a+b\n",
    "    return s\n",
    "sum(3,6)"
   ]
  },
  {
   "cell_type": "markdown",
   "metadata": {},
   "source": [
    "# Returning multiple values from function"
   ]
  },
  {
   "cell_type": "code",
   "execution_count": 25,
   "metadata": {},
   "outputs": [
    {
     "name": "stdout",
     "output_type": "stream",
     "text": [
      "(7, -1)\n"
     ]
    }
   ],
   "source": [
    "def sum_sub(a,b):\n",
    "    return a+b , a-b\n",
    "print(sum_sub(3,4))"
   ]
  },
  {
   "cell_type": "code",
   "execution_count": 12,
   "metadata": {},
   "outputs": [
    {
     "data": {
      "text/plain": [
       "32"
      ]
     },
     "execution_count": 12,
     "metadata": {},
     "output_type": "execute_result"
    }
   ],
   "source": [
    "def sum(a,*b):\n",
    "    s=a\n",
    "    for num in b:\n",
    "        s+=num\n",
    "    return s\n",
    "sum(3,5,6,7,3,8)"
   ]
  },
  {
   "cell_type": "code",
   "execution_count": 16,
   "metadata": {},
   "outputs": [
    {
     "name": "stdout",
     "output_type": "stream",
     "text": [
      "vaishali 22\n"
     ]
    }
   ],
   "source": [
    "def person(name,age=18):\n",
    "    print(name,age)\n",
    "person(\"vaishali\",22)"
   ]
  },
  {
   "cell_type": "markdown",
   "metadata": {},
   "source": [
    "# Positional Argument"
   ]
  },
  {
   "cell_type": "code",
   "execution_count": 43,
   "metadata": {},
   "outputs": [
    {
     "name": "stdout",
     "output_type": "stream",
     "text": [
      "vaishali 17\n"
     ]
    }
   ],
   "source": [
    "def person(name,age=18):\n",
    "    print(name,age-5)\n",
    "person(age = 22,name= \"vaishali\")"
   ]
  },
  {
   "cell_type": "markdown",
   "metadata": {},
   "source": [
    "# Default argument"
   ]
  },
  {
   "cell_type": "code",
   "execution_count": 19,
   "metadata": {},
   "outputs": [
    {
     "name": "stdout",
     "output_type": "stream",
     "text": [
      "vaishali 18 50\n"
     ]
    }
   ],
   "source": [
    "def person(name,marks,age=18):\n",
    "    print(name,age,marks)\n",
    "person(\"vaishali\",50)"
   ]
  },
  {
   "cell_type": "code",
   "execution_count": 54,
   "metadata": {},
   "outputs": [
    {
     "name": "stdout",
     "output_type": "stream",
     "text": [
      "18 (9953030, 'mumbai')\n"
     ]
    }
   ],
   "source": [
    "def person(name,*data):\n",
    "    print(name,data)\n",
    "person(18,9953030,\"mumbai\")"
   ]
  },
  {
   "cell_type": "code",
   "execution_count": 56,
   "metadata": {},
   "outputs": [
    {
     "name": "stdout",
     "output_type": "stream",
     "text": [
      "vaishali {'age': 18, 'mobile': 9953030, 'city': 'mumbai'}\n"
     ]
    }
   ],
   "source": [
    "def person(name,**data):\n",
    "    print(name,data)\n",
    "person(\"vaishali\",age = 18,mobile = 9953030,city = \"mumbai\")"
   ]
  },
  {
   "cell_type": "code",
   "execution_count": 60,
   "metadata": {},
   "outputs": [
    {
     "name": "stdout",
     "output_type": "stream",
     "text": [
      "vaishali\n",
      "age 18\n",
      "mobile 9953030856\n",
      "city mumbai\n"
     ]
    }
   ],
   "source": [
    "def person(name,**data):\n",
    "    print(name)\n",
    "    \n",
    "    for i,j in data.items():\n",
    "        print(i,j)\n",
    "        \n",
    "person(\"vaishali\",age = 18,mobile = 9953030856,city = \"mumbai\")"
   ]
  },
  {
   "cell_type": "markdown",
   "metadata": {},
   "source": [
    "# variable list and String passed as argument in function"
   ]
  },
  {
   "cell_type": "code",
   "execution_count": 26,
   "metadata": {},
   "outputs": [
    {
     "name": "stdout",
     "output_type": "stream",
     "text": [
      "8\n"
     ]
    }
   ],
   "source": [
    "def update(x):\n",
    "    x=8\n",
    "    print(x)\n",
    "update(10)"
   ]
  },
  {
   "cell_type": "code",
   "execution_count": 31,
   "metadata": {},
   "outputs": [
    {
     "name": "stdout",
     "output_type": "stream",
     "text": [
      "address of a 1957454272\n",
      "in func before updating  1957454272\n",
      "in func after updating  1957454208\n",
      "x  8\n",
      "a  10\n"
     ]
    }
   ],
   "source": [
    "def update(x):\n",
    "    print(\"in func before updating \" , id(x))\n",
    "    x=8\n",
    "    print(\"in func after updating \" , id(x))\n",
    "    print(\"x \" , x)\n",
    "a=10\n",
    "print(\"address of a\" , id(a))\n",
    "update(a)\n",
    "print(\"a \" , a)"
   ]
  },
  {
   "cell_type": "code",
   "execution_count": 34,
   "metadata": {},
   "outputs": [
    {
     "name": "stdout",
     "output_type": "stream",
     "text": [
      "address of a 115603400\n",
      "in func before updating  115603400\n",
      "in func after updating  115603400\n",
      "lst1  [10, 25, 49]\n",
      "lst  [10, 25, 49]\n"
     ]
    }
   ],
   "source": [
    "def update(lst1):\n",
    "    print(\"in func before updating \" , id(lst1))\n",
    "    lst1[1] = 25\n",
    "    print(\"in func after updating \" , id(lst1))  #lst are mutable\n",
    "    print(\"lst1 \" , lst1)\n",
    "lst=[10,30,49]\n",
    "print(\"address of a\" , id(lst))\n",
    "update(lst)\n",
    "print(\"lst \" , lst)"
   ]
  },
  {
   "cell_type": "code",
   "execution_count": 39,
   "metadata": {},
   "outputs": [
    {
     "name": "stdout",
     "output_type": "stream",
     "text": [
      "address of s 115661168\n",
      "in func before updating  115661168\n"
     ]
    },
    {
     "ename": "TypeError",
     "evalue": "'str' object does not support item assignment",
     "output_type": "error",
     "traceback": [
      "\u001b[1;31m---------------------------------------------------------------------------\u001b[0m",
      "\u001b[1;31mTypeError\u001b[0m                                 Traceback (most recent call last)",
      "\u001b[1;32m<ipython-input-39-ef4ed30fc332>\u001b[0m in \u001b[0;36m<module>\u001b[1;34m()\u001b[0m\n\u001b[0;32m      6\u001b[0m \u001b[0ms\u001b[0m \u001b[1;33m=\u001b[0m \u001b[1;34m\"vaishali\"\u001b[0m\u001b[1;33m\u001b[0m\u001b[0m\n\u001b[0;32m      7\u001b[0m \u001b[0mprint\u001b[0m\u001b[1;33m(\u001b[0m\u001b[1;34m\"address of s\"\u001b[0m \u001b[1;33m,\u001b[0m \u001b[0mid\u001b[0m\u001b[1;33m(\u001b[0m\u001b[0ms\u001b[0m\u001b[1;33m)\u001b[0m\u001b[1;33m)\u001b[0m\u001b[1;33m\u001b[0m\u001b[0m\n\u001b[1;32m----> 8\u001b[1;33m \u001b[0mupdate\u001b[0m\u001b[1;33m(\u001b[0m\u001b[0ms\u001b[0m\u001b[1;33m)\u001b[0m\u001b[1;33m\u001b[0m\u001b[0m\n\u001b[0m\u001b[0;32m      9\u001b[0m \u001b[0mprint\u001b[0m\u001b[1;33m(\u001b[0m\u001b[1;34m\"s \"\u001b[0m \u001b[1;33m,\u001b[0m \u001b[0ms\u001b[0m\u001b[1;33m)\u001b[0m\u001b[1;33m\u001b[0m\u001b[0m\n",
      "\u001b[1;32m<ipython-input-39-ef4ed30fc332>\u001b[0m in \u001b[0;36mupdate\u001b[1;34m(s1)\u001b[0m\n\u001b[0;32m      1\u001b[0m \u001b[1;32mdef\u001b[0m \u001b[0mupdate\u001b[0m\u001b[1;33m(\u001b[0m\u001b[0ms1\u001b[0m\u001b[1;33m)\u001b[0m\u001b[1;33m:\u001b[0m\u001b[1;33m\u001b[0m\u001b[0m\n\u001b[0;32m      2\u001b[0m     \u001b[0mprint\u001b[0m\u001b[1;33m(\u001b[0m\u001b[1;34m\"in func before updating \"\u001b[0m \u001b[1;33m,\u001b[0m \u001b[0mid\u001b[0m\u001b[1;33m(\u001b[0m\u001b[0ms1\u001b[0m\u001b[1;33m)\u001b[0m\u001b[1;33m)\u001b[0m\u001b[1;33m\u001b[0m\u001b[0m\n\u001b[1;32m----> 3\u001b[1;33m     \u001b[0ms1\u001b[0m\u001b[1;33m[\u001b[0m\u001b[1;36m0\u001b[0m\u001b[1;33m]\u001b[0m \u001b[1;33m=\u001b[0m\u001b[1;34m\"n\"\u001b[0m\u001b[1;33m\u001b[0m\u001b[0m\n\u001b[0m\u001b[0;32m      4\u001b[0m     \u001b[0mprint\u001b[0m\u001b[1;33m(\u001b[0m\u001b[1;34m\"in func after updating \"\u001b[0m \u001b[1;33m,\u001b[0m \u001b[0mid\u001b[0m\u001b[1;33m(\u001b[0m\u001b[0ms1\u001b[0m\u001b[1;33m)\u001b[0m\u001b[1;33m)\u001b[0m  \u001b[1;31m#strings  are immutable\u001b[0m\u001b[1;33m\u001b[0m\u001b[0m\n\u001b[0;32m      5\u001b[0m     \u001b[0mprint\u001b[0m\u001b[1;33m(\u001b[0m\u001b[1;34m\"s1 \"\u001b[0m \u001b[1;33m,\u001b[0m \u001b[0ms1\u001b[0m\u001b[1;33m)\u001b[0m\u001b[1;33m\u001b[0m\u001b[0m\n",
      "\u001b[1;31mTypeError\u001b[0m: 'str' object does not support item assignment"
     ]
    }
   ],
   "source": [
    "def update(s1):\n",
    "    print(\"in func before updating \" , id(s1))\n",
    "    s1[0] =\"n\"                                 #strings  are immutable\n",
    "    print(\"in func after updating \" , id(s1))  \n",
    "    print(\"s1 \" , s1)\n",
    "s = \"vaishali\"\n",
    "print(\"address of s\" , id(s))\n",
    "update(s)\n",
    "print(\"s \" , s)"
   ]
  },
  {
   "cell_type": "markdown",
   "metadata": {},
   "source": [
    "# Global and Local variable"
   ]
  },
  {
   "cell_type": "code",
   "execution_count": 63,
   "metadata": {},
   "outputs": [
    {
     "name": "stdout",
     "output_type": "stream",
     "text": [
      "in func 20\n",
      "outside 10\n"
     ]
    }
   ],
   "source": [
    "a=10\n",
    "def checking():\n",
    "    a=20\n",
    "    print(\"in func\" , a)\n",
    "checking()\n",
    "print(\"outside\" ,a)"
   ]
  },
  {
   "cell_type": "markdown",
   "metadata": {},
   "source": [
    "# Global variable"
   ]
  },
  {
   "cell_type": "code",
   "execution_count": 67,
   "metadata": {},
   "outputs": [
    {
     "name": "stdout",
     "output_type": "stream",
     "text": [
      "1957454272\n",
      "1957454272\n",
      "in func 20\n",
      "outside 15\n"
     ]
    }
   ],
   "source": [
    "a=10\n",
    "print(id(a))\n",
    "def checking():\n",
    "    x= globals()['a']\n",
    "    print(id(x))\n",
    "    globals()['a'] = 15  #changing the the value of global variable without affecting local variable\n",
    "    a=20\n",
    "    print(\"in func\" , a)\n",
    "\n",
    "checking()\n",
    "print(\"outside\" ,a)"
   ]
  },
  {
   "cell_type": "markdown",
   "metadata": {},
   "source": [
    "# Find No of even and odd numbers in list"
   ]
  },
  {
   "cell_type": "code",
   "execution_count": 74,
   "metadata": {},
   "outputs": [
    {
     "name": "stdout",
     "output_type": "stream",
     "text": [
      "4 2\n",
      "Even: 4 and odd: 2\n",
      "Even: 4 and odd  2\n"
     ]
    }
   ],
   "source": [
    "lst = [2,4,3,6,8,9]\n",
    "def find_even_odd(l):\n",
    "    even = odd =0\n",
    "    for i in l:\n",
    "        if i%2==0:\n",
    "            even+=1\n",
    "        else:\n",
    "            odd+=1\n",
    "    return even,odd\n",
    "even,odd = find_even_odd(lst)\n",
    "print(even,odd)\n",
    "print(\"Even: {} and odd: {}\" .format(even,odd))\n",
    "print(\"Even:\" ,even , \"and odd \" ,odd)"
   ]
  },
  {
   "cell_type": "markdown",
   "metadata": {},
   "source": [
    "# Fibonaaci Series"
   ]
  },
  {
   "cell_type": "code",
   "execution_count": 78,
   "metadata": {},
   "outputs": [
    {
     "name": "stdout",
     "output_type": "stream",
     "text": [
      "0\n",
      "1\n",
      "1\n",
      "2\n",
      "3\n",
      "5\n",
      "8\n",
      "13\n"
     ]
    }
   ],
   "source": [
    "def fibonacci(n):\n",
    "    a=0\n",
    "    b=1\n",
    "    print(a)\n",
    "    print(b)\n",
    "    for i in range(0,n-2):\n",
    "        c=a+b\n",
    "        print(c)\n",
    "        a=b\n",
    "        b=c\n",
    "fibonacci(8)"
   ]
  },
  {
   "cell_type": "markdown",
   "metadata": {},
   "source": [
    "# Factorial Function"
   ]
  },
  {
   "cell_type": "code",
   "execution_count": 82,
   "metadata": {},
   "outputs": [
    {
     "data": {
      "text/plain": [
       "120"
      ]
     },
     "execution_count": 82,
     "metadata": {},
     "output_type": "execute_result"
    }
   ],
   "source": [
    "def fact(n):\n",
    "    f=1\n",
    "    for i in range(2,n+1):\n",
    "       f*=i\n",
    "    return f\n",
    "fact(5)"
   ]
  },
  {
   "cell_type": "markdown",
   "metadata": {},
   "source": [
    "# Recursive factorial funaction"
   ]
  },
  {
   "cell_type": "code",
   "execution_count": 83,
   "metadata": {},
   "outputs": [
    {
     "data": {
      "text/plain": [
       "24"
      ]
     },
     "execution_count": 83,
     "metadata": {},
     "output_type": "execute_result"
    }
   ],
   "source": [
    "def fact(n):\n",
    "    if(n==0):\n",
    "        return 1\n",
    "    else:\n",
    "        return n*fact(n-1)\n",
    "fact(4)"
   ]
  },
  {
   "cell_type": "markdown",
   "metadata": {
    "collapsed": true
   },
   "source": [
    "# Anonymus Function"
   ]
  },
  {
   "cell_type": "code",
   "execution_count": 1,
   "metadata": {},
   "outputs": [
    {
     "name": "stdout",
     "output_type": "stream",
     "text": [
      "9\n"
     ]
    }
   ],
   "source": [
    "f= lambda a,b : a + b\n",
    "result = f(3,6)\n",
    "print(result)"
   ]
  },
  {
   "cell_type": "code",
   "execution_count": 7,
   "metadata": {},
   "outputs": [
    {
     "name": "stdout",
     "output_type": "stream",
     "text": [
      "[2, 8, 4, 10]\n",
      "[4, 16, 8, 20]\n",
      "48\n"
     ]
    }
   ],
   "source": [
    "from functools import reduce\n",
    "nums = [2,3,5,1,7,8,4,10]\n",
    "evens = list(filter(lambda n: n%2==0,nums))\n",
    "print(evens)\n",
    "doubles = list(map(lambda n:n*2,evens))\n",
    "print(doubles)\n",
    "sum = reduce(lambda a,b:a+b , doubles)\n",
    "print(sum)"
   ]
  },
  {
   "cell_type": "markdown",
   "metadata": {},
   "source": [
    "# class - Objects - oops concepts"
   ]
  },
  {
   "cell_type": "code",
   "execution_count": 1,
   "metadata": {},
   "outputs": [
    {
     "name": "stdout",
     "output_type": "stream",
     "text": [
      "First function\n",
      "10\n"
     ]
    }
   ],
   "source": [
    "class A:\n",
    "    def __init__(self,v):\n",
    "        self.v=v\n",
    "    def first(self):\n",
    "        print(\"First function\")\n",
    "a= A(10)\n",
    "a.first()\n",
    "print(a.v)"
   ]
  },
  {
   "cell_type": "code",
   "execution_count": null,
   "metadata": {
    "collapsed": true
   },
   "outputs": [],
   "source": []
  }
 ],
 "metadata": {
  "kernelspec": {
   "display_name": "Python 3",
   "language": "python",
   "name": "python3"
  },
  "language_info": {
   "codemirror_mode": {
    "name": "ipython",
    "version": 3
   },
   "file_extension": ".py",
   "mimetype": "text/x-python",
   "name": "python",
   "nbconvert_exporter": "python",
   "pygments_lexer": "ipython3",
   "version": "3.6.3"
  }
 },
 "nbformat": 4,
 "nbformat_minor": 2
}
