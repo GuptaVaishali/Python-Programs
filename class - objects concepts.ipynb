{
 "cells": [
  {
   "cell_type": "markdown",
   "metadata": {},
   "source": [
    "# Objects"
   ]
  },
  {
   "cell_type": "code",
   "execution_count": 13,
   "metadata": {},
   "outputs": [
    {
     "name": "stdout",
     "output_type": "stream",
     "text": [
      "91370104\n",
      "91364600\n"
     ]
    }
   ],
   "source": [
    "class A:\n",
    "    pass\n",
    "a =A()\n",
    "a1 = A()\n",
    "print(id(a))\n",
    "print(id(a1))"
   ]
  },
  {
   "cell_type": "code",
   "execution_count": 6,
   "metadata": {},
   "outputs": [
    {
     "name": "stdout",
     "output_type": "stream",
     "text": [
      "3Gb i3 1TB\n",
      "3Gb i3 1TB\n"
     ]
    }
   ],
   "source": [
    "class computer:\n",
    "    def config(self):\n",
    "        print('3Gb' , 'i3' ,'1TB')\n",
    "com1 = computer()\n",
    "computer.config(com1)\n",
    "com1.config()"
   ]
  },
  {
   "cell_type": "code",
   "execution_count": 12,
   "metadata": {},
   "outputs": [
    {
     "name": "stdout",
     "output_type": "stream",
     "text": [
      "config is i3 1gb\n",
      "config is i5 2gb\n"
     ]
    }
   ],
   "source": [
    "class computer:\n",
    "    def __init__(self,cpu,ram):\n",
    "        self.c = cpu\n",
    "        self.r = ram \n",
    "        \n",
    "    def config(self):\n",
    "        print(\"config is\" ,self.c , self.r)\n",
    "        \n",
    "com1 = computer('i3' ,'1gb')\n",
    "com2 = computer('i5' , '2gb')\n",
    "\n",
    "com1.config()\n",
    "com2.config()"
   ]
  },
  {
   "cell_type": "code",
   "execution_count": 31,
   "metadata": {},
   "outputs": [
    {
     "name": "stdout",
     "output_type": "stream",
     "text": [
      "they are not same\n",
      "vaishali 23\n",
      "vaish 23\n"
     ]
    }
   ],
   "source": [
    "class person:\n",
    "    def __init__(self):\n",
    "        self.name = \"vaish\"\n",
    "        self.age = 23\n",
    "    def compare(self,p):\n",
    "        return self.age == p.age and self.name == p.name\n",
    "    \n",
    "p = person()\n",
    "#p.age =24\n",
    "p.name = \"vaishali\"\n",
    "p1 = person()\n",
    "if p.compare(p1):\n",
    "    print(\"they are same\")\n",
    "else:\n",
    "    print(\"they are not same\")\n",
    "print(p.name , p.age)\n",
    "print(p1.name , p1.age)"
   ]
  },
  {
   "cell_type": "code",
   "execution_count": 33,
   "metadata": {},
   "outputs": [
    {
     "name": "stdout",
     "output_type": "stream",
     "text": [
      "No\n",
      "not same\n"
     ]
    }
   ],
   "source": [
    "a=5\n",
    "if(a%2==0):\n",
    "    print(\"yes\")\n",
    "else:\n",
    "    print(\"No\")"
   ]
  },
  {
   "cell_type": "code",
   "execution_count": 37,
   "metadata": {},
   "outputs": [
    {
     "name": "stdout",
     "output_type": "stream",
     "text": [
      "88690160\n",
      "88690160\n",
      "same\n"
     ]
    }
   ],
   "source": [
    "a= \"vaishali\"\n",
    "b = \"vaishali\"\n",
    "print(id(a))\n",
    "print(id(b))\n",
    "if(a==b):\n",
    "    print(\"same\")\n",
    "else:\n",
    "    print(\"not same\")"
   ]
  },
  {
   "cell_type": "code",
   "execution_count": null,
   "metadata": {
    "collapsed": true
   },
   "outputs": [],
   "source": []
  }
 ],
 "metadata": {
  "kernelspec": {
   "display_name": "Python 3",
   "language": "python",
   "name": "python3"
  },
  "language_info": {
   "codemirror_mode": {
    "name": "ipython",
    "version": 3
   },
   "file_extension": ".py",
   "mimetype": "text/x-python",
   "name": "python",
   "nbconvert_exporter": "python",
   "pygments_lexer": "ipython3",
   "version": "3.6.3"
  }
 },
 "nbformat": 4,
 "nbformat_minor": 2
}
