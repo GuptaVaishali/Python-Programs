{
 "cells": [
  {
   "cell_type": "markdown",
   "metadata": {},
   "source": [
    "# cut_rod problem via backtracking"
   ]
  },
  {
   "cell_type": "code",
   "execution_count": 18,
   "metadata": {},
   "outputs": [
    {
     "name": "stdout",
     "output_type": "stream",
     "text": [
      "Enter the length of rod 8\n",
      "Enter the prices of each length of rod 1\n",
      "Enter the prices of each length of rod 5\n",
      "Enter the prices of each length of rod 8\n",
      "Enter the prices of each length of rod 9\n",
      "Enter the prices of each length of rod 10\n",
      "Enter the prices of each length of rod 17\n",
      "Enter the prices of each length of rod 17\n",
      "Enter the prices of each length of rod 20\n",
      "22\n"
     ]
    }
   ],
   "source": [
    "import array as arr\n",
    "import math\n",
    "\n",
    "def cut_rod(p,length):\n",
    "    if length<=0:\n",
    "        return 0\n",
    "    max_price = -math.inf\n",
    "    for i in range(1,length+1):\n",
    "        price = p[i-1] + cut_rod(p,length-i)\n",
    "        if price > max_price:\n",
    "            max_price = price\n",
    "    return max_price\n",
    "\n",
    "def main():\n",
    "    length = int(input(\"Enter the length of rod \"))\n",
    "    p = arr.array('i',[])\n",
    "    for i in range(length):\n",
    "        p.append(int(input(\"Enter the prices of each length of rod \")))\n",
    "    max_profit = cut_rod(p,length)\n",
    "    print(max_profit)\n",
    "\n",
    "main()"
   ]
  },
  {
   "cell_type": "markdown",
   "metadata": {},
   "source": [
    "# cut_rod problem via dynamic programming"
   ]
  },
  {
   "cell_type": "code",
   "execution_count": 19,
   "metadata": {},
   "outputs": [
    {
     "name": "stdout",
     "output_type": "stream",
     "text": [
      "Enter the length of rod 8\n",
      "Enter the prices of each length of rod 3\n",
      "Enter the prices of each length of rod 5\n",
      "Enter the prices of each length of rod 8\n",
      "Enter the prices of each length of rod 9\n",
      "Enter the prices of each length of rod 10\n",
      "Enter the prices of each length of rod 17\n",
      "Enter the prices of each length of rod 17\n",
      "Enter the prices of each length of rod 20\n",
      "24\n"
     ]
    }
   ],
   "source": [
    "import array as arr\n",
    "import math\n",
    "\n",
    "def cut_rod(p,length):\n",
    "    \n",
    "    maxProfit = arr.array('i',[])\n",
    "    maxProfit.append(0)\n",
    "    \n",
    "    for i in range(1,length+1):\n",
    "        \n",
    "        max_price = -math.inf\n",
    "        \n",
    "        for j in range(1,i+1):\n",
    "            price = p[j-1] + maxProfit[i-j]\n",
    "            if price > max_price:\n",
    "                max_price = price\n",
    "                \n",
    "        maxProfit.append(max_price)\n",
    "        \n",
    "    return maxProfit[length]\n",
    "\n",
    "def main():\n",
    "    length = int(input(\"Enter the length of rod \"))\n",
    "    p = arr.array('i',[])\n",
    "    for i in range(length):\n",
    "        p.append(int(input(\"Enter the prices of each length of rod \")))\n",
    "    max_profit = cut_rod(p,length)\n",
    "    print(max_profit)\n",
    "\n",
    "main()"
   ]
  },
  {
   "cell_type": "code",
   "execution_count": null,
   "metadata": {
    "collapsed": true
   },
   "outputs": [],
   "source": []
  }
 ],
 "metadata": {
  "kernelspec": {
   "display_name": "Python 3",
   "language": "python",
   "name": "python3"
  },
  "language_info": {
   "codemirror_mode": {
    "name": "ipython",
    "version": 3
   },
   "file_extension": ".py",
   "mimetype": "text/x-python",
   "name": "python",
   "nbconvert_exporter": "python",
   "pygments_lexer": "ipython3",
   "version": "3.6.3"
  }
 },
 "nbformat": 4,
 "nbformat_minor": 2
}
